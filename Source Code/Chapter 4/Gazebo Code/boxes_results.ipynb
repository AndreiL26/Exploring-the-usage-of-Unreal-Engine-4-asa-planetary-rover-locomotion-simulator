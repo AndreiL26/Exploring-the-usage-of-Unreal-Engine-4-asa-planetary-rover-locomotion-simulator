{
 "cells": [
  {
   "cell_type": "markdown",
   "metadata": {},
   "source": [
    "# Boxes: a benchmark for free-floating rigid bodies\n",
    "\n",
    "This test simulates free-floating rigid bodies with and without gravity and verifies that their response matches the predicted analytical solutions.\n",
    "\n",
    "The relevant physical principles are momentum conservation\n",
    "and the rotational stability of rigid bodies, sometimes referred to as the\n",
    "[tennis racket theorem](https://en.wikipedia.org/wiki/Tennis_racket_theorem)\n",
    "or the Dzhanibekov effect.\n",
    "Depending on the shape of an object, it may have unstable rotations\n",
    "about a particular axis, which causes tumbling\n",
    "([excellent video here](https://www.youtube.com/watch?v=L2o9eBl_Gzw)).\n",
    "\n",
    "Two scenarios are chosen in this benchmark to represent simple and complex trajectories.\n",
    "The \"simple\" scenario has no gravity and stable rotations,\n",
    "and the \"complex\" scenario has gravity and unstable rotations.\n",
    "\n",
    "## Simple scenario\n",
    "\n",
    "Without gravity, the linear momentum of the rigid body remains constant.\n",
    "The expected trajectory of the center of mass is to follow a straight line\n",
    "with constant velocity.\n",
    "Additionally, the initial angular velocity is aligned with a stable\n",
    "axis of rotation.\n",
    "In addition to constant angular momentum, the angular velocity should be constant,\n",
    "and the cumulative rotation angle will vary linearly with time.\n",
    "\n",
    "![Simple scenario animation with 5 boxes](img/boxes_5_simple.gif)\n",
    "\n",
    "## Complex scenario\n",
    "\n",
    "With gravity, the linear momentum changes linearly with time.\n",
    "The expected trajectory of the center of mass is parabolic.\n",
    "Additionally, the initial angular velocity is slightly mis-aligned\n",
    "from the unstable axis of rotation.\n",
    "Since no external torques act, the angular momentum  will remain constant,\n",
    "though that manifests in a tumbling angular velocity.\n",
    "\n",
    "![Complex scenario animation with 5 boxes](img/boxes_5_complex.gif)\n"
   ]
  },
  {
   "cell_type": "markdown",
   "metadata": {},
   "source": [
    "## Physics engine comparison\n"
   ]
  },
  {
   "cell_type": "code",
   "execution_count": 1,
   "metadata": {},
   "outputs": [
    {
     "ename": "ModuleNotFoundError",
     "evalue": "No module named 'matplotlib'",
     "output_type": "error",
     "traceback": [
      "\u001b[0;31m---------------------------------------------------------------------------\u001b[0m",
      "\u001b[0;31mModuleNotFoundError\u001b[0m                       Traceback (most recent call last)",
      "\u001b[0;32m<ipython-input-1-e68b9182a711>\u001b[0m in \u001b[0;36m<module>\u001b[0;34m\u001b[0m\n\u001b[0;32m----> 1\u001b[0;31m \u001b[0;32mimport\u001b[0m \u001b[0mmatplotlib\u001b[0m \u001b[0;32mas\u001b[0m \u001b[0mmpl\u001b[0m\u001b[0;34m\u001b[0m\u001b[0;34m\u001b[0m\u001b[0m\n\u001b[0m\u001b[1;32m      2\u001b[0m \u001b[0;32mimport\u001b[0m \u001b[0mmatplotlib\u001b[0m\u001b[0;34m.\u001b[0m\u001b[0mpyplot\u001b[0m \u001b[0;32mas\u001b[0m \u001b[0mplt\u001b[0m\u001b[0;34m\u001b[0m\u001b[0;34m\u001b[0m\u001b[0m\n\u001b[1;32m      3\u001b[0m \u001b[0mget_ipython\u001b[0m\u001b[0;34m(\u001b[0m\u001b[0;34m)\u001b[0m\u001b[0;34m.\u001b[0m\u001b[0mrun_line_magic\u001b[0m\u001b[0;34m(\u001b[0m\u001b[0;34m'matplotlib'\u001b[0m\u001b[0;34m,\u001b[0m \u001b[0;34m'inline'\u001b[0m\u001b[0;34m)\u001b[0m\u001b[0;34m\u001b[0m\u001b[0;34m\u001b[0m\u001b[0m\n\u001b[1;32m      4\u001b[0m \u001b[0mget_ipython\u001b[0m\u001b[0;34m(\u001b[0m\u001b[0;34m)\u001b[0m\u001b[0;34m.\u001b[0m\u001b[0mrun_line_magic\u001b[0m\u001b[0;34m(\u001b[0m\u001b[0;34m'config'\u001b[0m\u001b[0;34m,\u001b[0m \u001b[0;34m\"InlineBackend.figure_format = 'png'\"\u001b[0m\u001b[0;34m)\u001b[0m\u001b[0;34m\u001b[0m\u001b[0;34m\u001b[0m\u001b[0m\n\u001b[1;32m      5\u001b[0m \u001b[0mmpl\u001b[0m\u001b[0;34m.\u001b[0m\u001b[0mrcParams\u001b[0m\u001b[0;34m.\u001b[0m\u001b[0mupdate\u001b[0m\u001b[0;34m(\u001b[0m\u001b[0;34m{\u001b[0m\u001b[0;34m'font.size'\u001b[0m\u001b[0;34m:\u001b[0m \u001b[0;36m16\u001b[0m\u001b[0;34m}\u001b[0m\u001b[0;34m)\u001b[0m\u001b[0;34m\u001b[0m\u001b[0;34m\u001b[0m\u001b[0m\n",
      "\u001b[0;31mModuleNotFoundError\u001b[0m: No module named 'matplotlib'"
     ]
    }
   ],
   "source": [
    "import matplotlib as mpl\n",
    "import matplotlib.pyplot as plt\n",
    "%matplotlib inline\n",
    "%config InlineBackend.figure_format = 'png'\n",
    "mpl.rcParams.update({'font.size': 16})\n",
    "import csv_dictionary\n",
    "import plot_helpers as ph"
   ]
  },
  {
   "cell_type": "code",
   "execution_count": 3,
   "metadata": {},
   "outputs": [
    {
     "ename": "NameError",
     "evalue": "name 'csv_dictionary' is not defined",
     "output_type": "error",
     "traceback": [
      "\u001b[0;31m---------------------------------------------------------------------------\u001b[0m",
      "\u001b[0;31mNameError\u001b[0m                                 Traceback (most recent call last)",
      "\u001b[0;32m<ipython-input-3-6a9a9a256c10>\u001b[0m in \u001b[0;36m<module>\u001b[0;34m\u001b[0m\n\u001b[0;32m----> 1\u001b[0;31m \u001b[0mboxes_dt\u001b[0m \u001b[0;34m=\u001b[0m \u001b[0mcsv_dictionary\u001b[0m\u001b[0;34m.\u001b[0m\u001b[0mmakeCsvDictOfArrays\u001b[0m\u001b[0;34m(\u001b[0m\u001b[0;34m'test_results/BENCHMARK_boxes_dt.csv'\u001b[0m\u001b[0;34m)\u001b[0m\u001b[0;34m\u001b[0m\u001b[0;34m\u001b[0m\u001b[0m\n\u001b[0m\u001b[1;32m      2\u001b[0m \u001b[0mprint\u001b[0m\u001b[0;34m(\u001b[0m\u001b[0mboxes_dt\u001b[0m\u001b[0;34m.\u001b[0m\u001b[0mkeys\u001b[0m\u001b[0;34m(\u001b[0m\u001b[0;34m)\u001b[0m\u001b[0;34m)\u001b[0m\u001b[0;34m\u001b[0m\u001b[0;34m\u001b[0m\u001b[0m\n\u001b[1;32m      3\u001b[0m \u001b[0mprint\u001b[0m\u001b[0;34m(\u001b[0m\u001b[0mset\u001b[0m\u001b[0;34m(\u001b[0m\u001b[0mboxes_dt\u001b[0m\u001b[0;34m[\u001b[0m\u001b[0;34m'classname'\u001b[0m\u001b[0;34m]\u001b[0m\u001b[0;34m)\u001b[0m\u001b[0;34m)\u001b[0m\u001b[0;34m\u001b[0m\u001b[0;34m\u001b[0m\u001b[0m\n",
      "\u001b[0;31mNameError\u001b[0m: name 'csv_dictionary' is not defined"
     ]
    }
   ],
   "source": [
    "boxes_dt = csv_dictionary.makeCsvDictOfArrays('test_results/BENCHMARK_boxes_dt.csv')\n",
    "print(boxes_dt.keys())\n",
    "print(set(boxes_dt['classname']))"
   ]
  },
  {
   "cell_type": "code",
   "execution_count": null,
   "metadata": {},
   "outputs": [],
   "source": [
    "ph.plot3TimeDt({'classname': 'DtComplex'}\n",
    "          , csvDict=boxes_dt\n",
    "          , yname='linPositionErr_maxAbs'\n",
    "          , title='Parabolic position error'\n",
    "          )"
   ]
  },
  {
   "cell_type": "code",
   "execution_count": null,
   "metadata": {},
   "outputs": [],
   "source": [
    "ph.plot3TimeDt({'classname': 'DtComplex'}\n",
    "          , csvDict=boxes_dt\n",
    "          , yname='linVelocityErr_maxAbs'\n",
    "          , title='Linear velocity error'\n",
    "          )"
   ]
  },
  {
   "cell_type": "code",
   "execution_count": null,
   "metadata": {},
   "outputs": [],
   "source": [
    "ph.plot3TimeDt({'classname': 'DtComplex'}\n",
    "          , csvDict=boxes_dt\n",
    "          , yname='angMomentumErr_maxAbs'\n",
    "          , title='Angular momentum error'\n",
    "          , skipDart=True\n",
    "          )"
   ]
  },
  {
   "cell_type": "markdown",
   "metadata": {},
   "source": [
    "### Test: multiple boxes, nonlinear trajectory"
   ]
  },
  {
   "cell_type": "markdown",
   "metadata": {},
   "source": [
    "This test uses multiple rigid bodies spaced widely apart to identify the effect of on computational speed for each physics engine. Identical initial conditions are given to each box."
   ]
  },
  {
   "cell_type": "code",
   "execution_count": null,
   "metadata": {},
   "outputs": [],
   "source": [
    "boxes_model_count = csv_dictionary.makeCsvDictOfArrays('test_results/BENCHMARK_boxes_model_count.csv')\n",
    "print(boxes_model_count.keys())\n",
    "print(set(boxes_model_count['engine']))\n",
    "print(set(boxes_model_count['linPositionErr_maxAbs']))\n",
    "print(set(boxes_model_count['collision']))\n",
    "\n",
    "csvDict = boxes_model_count\n",
    "yname = 'timeRatio'\n",
    "ylabel = 'Time ratio (real / sim)'\n",
    "ylim = (-0.40000000000000036, 8.4000000000000004)\n",
    "\n",
    "ph.plotEnginesModelCount({'classname': 'Boxes'}\n",
    "                  , csvDict=csvDict\n",
    "                  , yname=yname\n",
    "                  , ylabel=ylabel\n",
    "                  , title='Computational time with multiple boxes'\n",
    "                )\n",
    "\n",
    "ph.plotEnginesModelCount({'classname': 'Boxes', 'collision': 1.0}\n",
    "                  , csvDict=csvDict\n",
    "                  , yname=yname\n",
    "                  , ylabel=ylabel\n",
    "                  , title='Computational time with collision-checking'\n",
    "                   )\n",
    "\n",
    "ph.plotEnginesModelCount({'classname': 'Boxes', 'collision': 0.0}\n",
    "                  , csvDict=csvDict\n",
    "                  , yname=yname\n",
    "                  , ylabel=ylabel\n",
    "                  , ylim=ylim\n",
    "                  , title='Computational time without collision-checking'\n",
    "                   )"
   ]
  },
  {
   "cell_type": "code",
   "execution_count": null,
   "metadata": {},
   "outputs": [],
   "source": []
  }
 ],
 "metadata": {
  "kernelspec": {
   "display_name": "Python 3",
   "language": "python",
   "name": "python3"
  },
  "language_info": {
   "codemirror_mode": {
    "name": "ipython",
    "version": 3
   },
   "file_extension": ".py",
   "mimetype": "text/x-python",
   "name": "python",
   "nbconvert_exporter": "python",
   "pygments_lexer": "ipython3",
   "version": "3.6.9"
  }
 },
 "nbformat": 4,
 "nbformat_minor": 1
}
