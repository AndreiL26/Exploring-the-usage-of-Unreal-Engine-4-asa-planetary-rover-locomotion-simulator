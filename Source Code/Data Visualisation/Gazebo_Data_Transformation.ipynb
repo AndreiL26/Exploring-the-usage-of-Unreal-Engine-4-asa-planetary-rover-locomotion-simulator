{
 "cells": [
  {
   "cell_type": "markdown",
   "metadata": {},
   "source": [
    "### This notebook handles the transformation of Gazebo experimental data to  a common format to the UE4 data.\n",
    "\n",
    "The setup used made Gazebo return all the observations in separate .csv files, which is not a clean solution, therefore processing of the .csv files had to be done to combine them in a single .csv file, rename the observation labels and order the observations so that the final result is consistent with the observations from UE4."
   ]
  },
  {
   "cell_type": "code",
   "execution_count": 1,
   "metadata": {},
   "outputs": [],
   "source": [
    "import pandas as pd\n",
    "from glob import glob"
   ]
  },
  {
   "cell_type": "code",
   "execution_count": 2,
   "metadata": {},
   "outputs": [],
   "source": [
    "def transform_data(source_folder, destination_file, model_name, hasAcceleration=True, hasForce=True):\n",
    "    # This function takes a folder containing Gazebo results in several .csv files and merges them into 1 .csv file that has \n",
    "    # consistent observation labels and order to the UE4 observations.\n",
    "    stock_files = sorted(glob(source_folder + '*.csv'))\n",
    "    df = pd.concat((pd.read_csv(file) for file in stock_files), axis=1, ignore_index = False)\n",
    "    # Remove duplicate columns, initially used to eliminate duplicate sim_time columns.\n",
    "    df = df.loc[:,~df.columns.duplicated()]\n",
    "    \n",
    "    df = df.rename(columns={\"sim_time\": \"Time\", model_name + \"world_angular_acceleration/x\": \"X Angular Acceleration\", \n",
    "                           model_name + \"world_angular_velocity/x\":\"X Angular Velocity\", model_name + \"world_angular_velocity/y\":\"Y Angular Velocity\",\n",
    "                           model_name + \"world_angular_velocity/z\":\"Z Angular Velocity\", model_name + \"world_linear_acceleration/x\":\"X Linear Acceleration\", \n",
    "                           model_name + \"world_linear_velocity/x\":\"X Velocity\", model_name + \"world_linear_velocity/y\":\"Y Velocity\", model_name + \"world_linear_velocity/z\":\"Z Velocity\",\n",
    "                           model_name + \"world_pose/orientation/pitch\":\"Pitch\", model_name + \"world_pose/orientation/roll\":\"Roll\", model_name + \"world_pose/orientation/yaw\":\"Yaw\",\n",
    "                           model_name + \"world_pose/position/x\":\"X Position\", model_name + \"world_pose/position/y\":\"Y Position\", model_name + \"world_pose/position/z\":\"Z Position\",})\n",
    "    \n",
    "    cols = ['Time', 'X Velocity', 'Y Velocity', 'Z Velocity', 'X Position', 'Y Position', 'Z Position', 'Roll', 'Yaw', 'Pitch',\n",
    "            'X Angular Velocity', 'Y Angular Velocity', 'Z Angular Velocity']\n",
    "    \n",
    "    if hasAcceleration == True:\n",
    "        df = df.rename(columns={model_name + \"world_angular_acceleration/y\": \"Y Angular Acceleration\", model_name + \"world_angular_acceleration/z\": \"Z Angular Acceleration\",\n",
    "                                model_name + \"world_linear_acceleration/y\":\"Y Linear Acceleration\", model_name + \"world_linear_acceleration/z\":\"Z Linear Acceleration\"})\n",
    "        accelerations = ['X Angular Acceleration', 'Y Angular Acceleration','Z Angular Acceleration', 'X Linear Acceleration', 'Y Linear Acceleration', 'Z Linear Acceleration']\n",
    "        cols = cols + accelerations\n",
    "        \n",
    "    if hasForce == True:\n",
    "        df = df.rename(columns = {\" applied_force_x\":\"X Force Applied\", \" applied_force_y\":\"Y Force Applied\", \" applied_force_z\":\"Z Force Applied\"})\n",
    "        # Apply a specific ordering to the columns to be consistent with UE4 observations.\n",
    "        cols = ['Time', 'X Velocity', 'Y Velocity', 'Z Velocity', 'X Position', 'Y Position', 'Z Position', 'Roll', 'Yaw', 'Pitch',\n",
    "                'X Angular Velocity', 'Y Angular Velocity', 'Z Angular Velocity', 'X Force Applied', 'Y Force Applied', 'Z Force Applied', \n",
    "                'X Angular Acceleration', 'Y Angular Acceleration', 'Z Angular Acceleration', 'X Linear Acceleration', 'Y Linear Acceleration', 'Z Linear Acceleration']\n",
    "\n",
    "    df = df[cols]\n",
    "\n",
    "    # Save the formatted dataframe to a .csv file\n",
    "    df.to_csv(destination_file, index=False)"
   ]
  },
  {
   "cell_type": "code",
   "execution_count": 6,
   "metadata": {},
   "outputs": [],
   "source": [
    "# Transform the data for the gravity drop experiments\n",
    "gravity_drop_test_data = 'D:\\\\University\\\\Final Year Project\\\\Final Results\\\\Gravity Drop Test\\\\Gazebo Results\\\\'\n",
    "transform_data(gravity_drop_test_data, gravity_drop_test_data + \"Gravity_Drop_Test_Observations.csv\", ' unit_box_Custom?', True, False)"
   ]
  },
  {
   "cell_type": "code",
   "execution_count": 3,
   "metadata": {},
   "outputs": [],
   "source": [
    "# Transform the data for the gravity drop experiments\n",
    "# 50 Meters\n",
    "folder = 'D:\\\\University\\\\Final Year Project\\\\GitHub\\\\Preliminary Work\\\\Results\\\\Gravity Drop Test\\\\50 Meters\\\\Gazebo Results\\\\'\n",
    "transform_data(folder, folder + \"Gravity_Drop_Test_Observations.csv\", ' unit_box_Custom?', True, False)\n",
    "\n",
    "# 75 Meters\n",
    "folder = 'D:\\\\University\\\\Final Year Project\\\\GitHub\\\\Preliminary Work\\\\Results\\\\Gravity Drop Test\\\\75 Meters\\\\Gazebo Results\\\\'\n",
    "transform_data(folder, folder + \"Gravity_Drop_Test_Observations.csv\", ' unit_box_Custom?', True, False)\n",
    "\n",
    "# 100 Meters\n",
    "folder = 'D:\\\\University\\\\Final Year Project\\\\GitHub\\\\Preliminary Work\\\\Results\\\\Gravity Drop Test\\\\100 Meters\\\\Gazebo Results\\\\'\n",
    "transform_data(folder, folder + \"Gravity_Drop_Test_Observations.csv\", ' unit_box_Custom?', True, False)"
   ]
  },
  {
   "cell_type": "code",
   "execution_count": 13,
   "metadata": {},
   "outputs": [],
   "source": [
    "# Transform the data for the constant forces \n",
    "forces_used = [1, 5, 10, 20]\n",
    "n = len(forces_used)\n",
    "for ix in range(0, n):\n",
    "    gazebo_data_folder_path = 'D:\\\\University\\\\Final Year Project\\\\Final Results\\\\Constant Force\\\\Gazebo Quick Solver Results\\\\' + str(forces_used[ix]) + 'N\\\\'\n",
    "    transform_data(gazebo_data_folder_path, gazebo_data_folder_path + str(forces_used[ix]) + \"N.csv\", ' box?', True, True, )    "
   ]
  },
  {
   "cell_type": "code",
   "execution_count": 4,
   "metadata": {},
   "outputs": [],
   "source": [
    "# Transform the data for impulse experiments\n",
    "impulses_used = [1000, 10000]\n",
    "n = len(impulses_used)\n",
    "# No friction case\n",
    "for ix in range(0, n):\n",
    "    gazebo_data_folder_path = 'D:\\\\University\\\\Final Year Project\\\\GitHub\\\\Preliminary Work\\\\Results\\\\Impulse\\\\Neglecting_Friction\\\\Gazebo Results\\\\' + str(impulses_used[ix]) + 'N\\\\'\n",
    "    transform_data(gazebo_data_folder_path, gazebo_data_folder_path + str(impulses_used[ix]) + \"N.csv\", ' unit_box_Custom?', False, False)    \n",
    "    \n",
    "# Friction = 1\n",
    "for ix in range(0, n):\n",
    "    gazebo_data_folder_path = 'D:\\\\University\\\\Final Year Project\\\\GitHub\\\\Preliminary Work\\\\Results\\\\Impulse\\\\Including_Friction\\\\Gazebo Results\\\\' + str(impulses_used[ix]) + 'N\\\\'\n",
    "    transform_data(gazebo_data_folder_path, gazebo_data_folder_path + str(impulses_used[ix]) + \"N.csv\", ' unit_box_Custom?', False, False)    "
   ]
  },
  {
   "cell_type": "code",
   "execution_count": 23,
   "metadata": {},
   "outputs": [],
   "source": [
    "# Transform the data for force pattern experiments\n",
    "for crt_pattern in range(1, 5):\n",
    "    gazebo_data_folder_path = 'D:\\\\University\\\\Final Year Project\\\\Final Results\\\\Same tick duration approach\\\\Gazebo World Solver Results\\\\Pattern_' + str(crt_pattern) + '\\\\'\n",
    "    \n",
    "    transform_data(gazebo_data_folder_path, gazebo_data_folder_path + \"Pattern_\" + str(crt_pattern) + '.csv', ' box?')"
   ]
  },
  {
   "cell_type": "code",
   "execution_count": null,
   "metadata": {},
   "outputs": [],
   "source": []
  }
 ],
 "metadata": {
  "kernelspec": {
   "display_name": "Python 3",
   "language": "python",
   "name": "python3"
  },
  "language_info": {
   "codemirror_mode": {
    "name": "ipython",
    "version": 3
   },
   "file_extension": ".py",
   "mimetype": "text/x-python",
   "name": "python",
   "nbconvert_exporter": "python",
   "pygments_lexer": "ipython3",
   "version": "3.6.12"
  }
 },
 "nbformat": 4,
 "nbformat_minor": 2
}
