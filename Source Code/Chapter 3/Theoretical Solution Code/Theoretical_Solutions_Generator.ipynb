{
 "cells": [
  {
   "cell_type": "code",
   "execution_count": 3,
   "metadata": {},
   "outputs": [],
   "source": [
    "import numpy as np\n",
    "import pandas as pd"
   ]
  },
  {
   "cell_type": "markdown",
   "metadata": {},
   "source": [
    "# Experiment 1 -  Gravity Drop-Test \n",
    "\n",
    "In the theoretical solution interest lays only in the Z position and Z linear velocity."
   ]
  },
  {
   "cell_type": "code",
   "execution_count": 4,
   "metadata": {},
   "outputs": [],
   "source": [
    "def run_gravity_drop_test(intial_z_position, total_experiment_time, destination_file_name):\n",
    "    # Initial state\n",
    "    observation_times = [0]\n",
    "    z_velocities = [0]\n",
    "    z_positions = [intial_z_position]\n",
    "\n",
    "    g = -9.81\n",
    "    crt_time = 0.0\n",
    "\n",
    "    # Simulate the cube falling until it touches the ground. \n",
    "    # Note that since the dimensions of the cube are 1x1x1, in order to touch the ground, the cube's center of mass Z position should be 0.5\n",
    "    while crt_time < total_experiment_time:\n",
    "        if intial_z_position + (g*(crt_time**2))/2 <= 0.5:\n",
    "            break\n",
    "        crt_time += 0.001\n",
    "        z_velocities.append(g * crt_time)\n",
    "        z_positions.append(intial_z_position + (g*(crt_time**2))/2)\n",
    "        observation_times.append(crt_time)\n",
    "\n",
    "    # Record the stopping time and maximum linear velocity of the cube.\n",
    "    stopping_time = crt_time\n",
    "    maximum_velocity = z_velocities[-1]\n",
    "\n",
    "    crt_time += 0.001\n",
    "    # Complete the observations array to be consistent with the simulation duration in Gazebo and Unreal.\n",
    "    while crt_time < total_experiment_time:\n",
    "        z_velocities.append(0)\n",
    "        z_positions.append(0.5)\n",
    "        observation_times.append(crt_time)\n",
    "        crt_time += 0.001\n",
    "\n",
    "    # Load the data into a pandas data frame to add column labels.\n",
    "    data_frame = pd.DataFrame.from_dict({'Time': np.transpose(observation_times), \n",
    "                                'Z Velocity': np.transpose(z_velocities), \n",
    "                                'Z Position': np.transpose(z_positions)})\n",
    "\n",
    "    data_frame.to_csv(destination_file_name, index=False)"
   ]
  },
  {
   "cell_type": "code",
   "execution_count": 9,
   "metadata": {},
   "outputs": [],
   "source": [
    "run_gravity_drop_test(10, 2, '10M_Gravity_Drop.csv')\n",
    "run_gravity_drop_test(50, 4, '50M_Gravity_Drop.csv')\n",
    "run_gravity_drop_test(75, 4, '75M_Gravity_Drop.csv')\n",
    "run_gravity_drop_test(100, 5, '100M_Gravity_Drop.csv')"
   ]
  },
  {
   "cell_type": "markdown",
   "metadata": {},
   "source": [
    "# Experiment 2 - Impulse Applied to a Cube\n",
    "\n",
    "Force is applied on the positive Y-axis, therefore only interesest is in Y position and Y linear velocity. Note that this experiment contains two sub-scenarios, neglecting and including dynamic friction."
   ]
  },
  {
   "cell_type": "markdown",
   "metadata": {},
   "source": [
    "## Experiment 2.1 - Neglecting dynamic friction\n"
   ]
  },
  {
   "cell_type": "code",
   "execution_count": 12,
   "metadata": {},
   "outputs": [],
   "source": [
    "applied_forces = [1000, 10000]\n",
    "impulse_duration = 0.001 # This represents the duration for which the impulse is applied.\n",
    "total_experiment_time = 4.0\n",
    "cube_mass = 1\n",
    "\n",
    "\n",
    "# Get the theoretical solutions for all the forces considered.\n",
    "for crt_force in applied_forces:\n",
    "    # Initial state\n",
    "    observation_times = []\n",
    "    y_velocities = []\n",
    "    y_positions = []\n",
    "    crt_time = 0\n",
    "    \n",
    "    # Avoid overstepping the total time by 0.001\n",
    "    while crt_time < total_experiment_time - 0.001:\n",
    "        crt_time += 0.001\n",
    "    \n",
    "        crt_y_velocity = (crt_force * impulse_duration)/cube_mass\n",
    "        y_velocities.append(crt_y_velocity)\n",
    "        y_positions.append(crt_y_velocity * crt_time)\n",
    "        observation_times.append(crt_time)\n",
    "        \n",
    "    data_frame = pd.DataFrame.from_dict({'Time': np.transpose(observation_times), \n",
    "                            'Y Velocity': np.transpose(y_velocities), \n",
    "                            'Y Position': np.transpose(y_positions)})\n",
    "\n",
    "    data_frame.to_csv(str(crt_force) + \"N Impulse_No_Friction.csv\", index=False) \n"
   ]
  },
  {
   "cell_type": "markdown",
   "metadata": {},
   "source": [
    "## Experiment 2.2 - Including dynamic friction\n"
   ]
  },
  {
   "cell_type": "code",
   "execution_count": 5,
   "metadata": {},
   "outputs": [],
   "source": [
    "def compute_position_integration(initial_velocity, g, friction_coefficient, t):\n",
    "    # This function computes the integral from 0 to t for the position of the cube.\n",
    "    # From theoretical results presented in section 3.3.2., the position is given by:\n",
    "    # Position = integral(0->t)(v0 - g * μ * t)dt\n",
    "    return initial_velocity * t - (g * friction_coefficient * (t**2))/2\n",
    "\n",
    "applied_forces = [1000, 10000]\n",
    "impulse_duration = 0.001 # This represents the duration for which the impulse is applied.\n",
    "total_experiment_time = 4.0\n",
    "cube_mass = 1\n",
    "g = 9.81\n",
    "friction_coefficient = 1\n",
    "\n",
    "# Get the theoretical solutions for all the forces considered.\n",
    "for crt_force in applied_forces:\n",
    "    # Initial state\n",
    "    observation_times = []\n",
    "    y_velocities = []\n",
    "    y_positions = []\n",
    "    crt_time = 0\n",
    "    \n",
    "    # Stage 1: Compute the velocity and position immediately after applying the force.\n",
    "    while crt_time < impulse_duration:\n",
    "        crt_time += 0.001\n",
    "        crt_y_velocity = (crt_force * impulse_duration)/cube_mass\n",
    "        y_velocities.append(crt_y_velocity)\n",
    "        y_positions.append(crt_y_velocity * crt_time)\n",
    "        observation_times.append(crt_time)\n",
    "        \n",
    "    initial_velocity = y_velocities[-1]\n",
    "    \n",
    "    # Stage 2: Compute the velocity and position as friction starts acting\n",
    "    # Avoid overstepping the total time by 0.001\n",
    "    while crt_time < total_experiment_time - 0.001:\n",
    "        crt_time += 0.001\n",
    "    \n",
    "        crt_y_velocity = initial_velocity - (g * friction_coefficient * crt_time)\n",
    "        if crt_y_velocity > 0:\n",
    "            y_velocities.append(crt_y_velocity)\n",
    "            y_positions.append(compute_position_integration(initial_velocity, g, friction_coefficient, crt_time))\n",
    "        else:\n",
    "            y_velocities.append(0)\n",
    "            y_positions.append(y_positions[-1])\n",
    "\n",
    "        observation_times.append(crt_time)\n",
    "        \n",
    "    data_frame = pd.DataFrame.from_dict({'Time': np.transpose(observation_times), \n",
    "                            'Y Velocity': np.transpose(y_velocities), \n",
    "                            'Y Position': np.transpose(y_positions)})\n",
    "\n",
    "    data_frame.to_csv(str(crt_force) + \"N Impulse_With_Friction.csv\", index=False) \n"
   ]
  },
  {
   "cell_type": "markdown",
   "metadata": {},
   "source": [
    "# Experiment 3 - Constant Force Applied to a Cube"
   ]
  },
  {
   "cell_type": "code",
   "execution_count": 24,
   "metadata": {},
   "outputs": [],
   "source": [
    "def compute_force_position_integration(F, g, friction_coefficient, m, t):\n",
    "    # This function computes the integral from 0 to t for the position of the cube.\n",
    "    # From theoretical results presented in section 3.4., the position is given by:\n",
    "    # Position = integral(0->t)(1/m * (F- m * g * μ) * t)dt\n",
    "    return ((F - m * g * friction_coefficient) * (t **2))/(2 * m)\n",
    "\n",
    "# Note that this implementation is extremely rudimentary and only works correctly for forces that are larger than m * g * μ\n",
    "applied_forces = [10, 20]\n",
    "total_experiment_time = 10.0\n",
    "force_applying_time = 5.0\n",
    "\n",
    "m = 1\n",
    "g = 9.81\n",
    "friction_coefficient = 1\n",
    "\n",
    "for crt_force in applied_forces:\n",
    "    observation_times = []\n",
    "    y_velocities = []\n",
    "    y_positions = []\n",
    "    crt_time = 0\n",
    "    \n",
    "    # Phase 1 - apply the force constantly for 5 seconds.\n",
    "    while crt_time < force_applying_time:\n",
    "        crt_time += 0.001\n",
    "        crt_y_velocity = 1/m * (crt_force - m * g * friction_coefficient)*crt_time\n",
    "        y_velocities.append(crt_y_velocity)\n",
    "        y_positions.append(compute_force_position_integration(crt_force, g, friction_coefficient, m, crt_time))\n",
    "        observation_times.append(crt_time)\n",
    "    \n",
    "    # Phase 2 - no force being applied, velocity starts decreasing due to friction.\n",
    "    initial_velocity = y_velocities[-1]\n",
    "    position = y_positions[-1]\n",
    "    while crt_time < total_experiment_time - 0.001:\n",
    "        crt_time += 0.001\n",
    "        crt_y_velocity = initial_velocity - (g * friction_coefficient * (crt_time - force_applying_time))\n",
    "        if crt_y_velocity > 0:\n",
    "            y_velocities.append(crt_y_velocity)\n",
    "            y_positions.append(position + compute_position_integration(initial_velocity, g, friction_coefficient, (crt_time - force_applying_time)))\n",
    "        else:\n",
    "            y_velocities.append(0)\n",
    "            y_positions.append(y_positions[-1])\n",
    "\n",
    "        observation_times.append(crt_time)\n",
    "        \n",
    "    data_frame = pd.DataFrame.from_dict({'Time': np.transpose(observation_times), \n",
    "                            'Y Velocity': np.transpose(y_velocities), \n",
    "                            'Y Position': np.transpose(y_positions)})\n",
    "\n",
    "    data_frame.to_csv(str(crt_force) + \"N Constant Force.csv\", index=False) \n"
   ]
  },
  {
   "cell_type": "code",
   "execution_count": null,
   "metadata": {},
   "outputs": [],
   "source": []
  }
 ],
 "metadata": {
  "kernelspec": {
   "display_name": "Python 3",
   "language": "python",
   "name": "python3"
  },
  "language_info": {
   "codemirror_mode": {
    "name": "ipython",
    "version": 3
   },
   "file_extension": ".py",
   "mimetype": "text/x-python",
   "name": "python",
   "nbconvert_exporter": "python",
   "pygments_lexer": "ipython3",
   "version": "3.6.12"
  }
 },
 "nbformat": 4,
 "nbformat_minor": 2
}
